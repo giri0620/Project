{
 "cells": [
  {
   "cell_type": "code",
   "execution_count": null,
   "id": "3db43606",
   "metadata": {},
   "outputs": [],
   "source": [
    "\n",
    "import cv2 \n",
    "from deepface import DeepFace\n",
    "faceCascade = cv2.CascadeClassifier(cv2.data.haarcascades + 'haarcascade_frontalface_default.xml')\n",
    "cap = cv2.VideoCapture(1)\n",
    "if not cap.isOpened():\n",
    "    cap = cv2.VideoCapture(0)\n",
    "if not cap.isOpened():\n",
    "    raise IOError(\"cannot open webcam\")\n",
    "    \n",
    "while True:\n",
    "    ret,frame = cap.read()\n",
    "    \n",
    "    result = DeepFace.analyze(frame, actions=['emotion'])\n",
    "    gray = cv2.cvtColor(frame,cv2.COLOR_BGR2GRAY)\n",
    "      #print(facecascade.empty())\n",
    "    faces = faceCascade.detectMultiScale(gray,1.1,4)\n",
    "    for(x,y,w,h) in faces:\n",
    "        cv2.rectangle(frame,(x,y),(x+w,y+h),(0,255,0),2)\n",
    "        \n",
    "    font = cv2.FONT_HERSHEY_SIMPLEX\n",
    "    cv2.putText(frame,\n",
    "                result[0]['dominant_emotion'],\n",
    "                (50,50),+\n",
    "                font,3,\n",
    "\n",
    "                (0,0,255),\n",
    "                2,\n",
    "                cv2.LINE_4)\n",
    "    cv2.imshow('Demo video ',frame)\n",
    "    \n",
    "    if cv2.waitKey(4) & 0xFF == ord('q'):\n",
    "        break\n",
    "        \n",
    "        \n",
    "cap.release()\n",
    "cv2.destroyALLWindows()\n",
    "    \n",
    "    \n",
    "    \n"
   ]
  }
 ],
 "metadata": {
  "kernelspec": {
   "display_name": "Python 3 (ipykernel)",
   "language": "python",
   "name": "python3"
  },
  "language_info": {
   "codemirror_mode": {
    "name": "ipython",
    "version": 3
   },
   "file_extension": ".py",
   "mimetype": "text/x-python",
   "name": "python",
   "nbconvert_exporter": "python",
   "pygments_lexer": "ipython3",
   "version": "3.9.12"
  }
 },
 "nbformat": 4,
 "nbformat_minor": 5
}
